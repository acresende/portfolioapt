{
 "cells": [
  {
   "cell_type": "markdown",
   "id": "3cf0be7f-468c-4164-9e25-8902e5c3232d",
   "metadata": {},
   "source": [
    "# Carregamento da base"
   ]
  },
  {
   "cell_type": "code",
   "execution_count": 2,
   "id": "3592e108-ea4a-444f-8296-8abcf86d16c2",
   "metadata": {},
   "outputs": [],
   "source": [
    "import pandas as pd\n",
    "import numpy as np\n",
    "from pandas_profiling import ProfileReport\n",
    "\n",
    "raw_simulated_dataset = pd.read_csv('/mnt/data/simulated_listings1_wn.csv')\n",
    "raw_simulated_dataset[['latitude', 'longitude']] = raw_simulated_dataset[['latitude', 'longitude']].astype(float)\n",
    "raw_simulated_dataset.drop(columns=['point'], inplace=True)\n",
    "#raw_simulated_dataset.profile_report()"
   ]
  },
  {
   "cell_type": "markdown",
   "id": "e3d3602c-3267-4a98-82fe-e604f3d4a826",
   "metadata": {},
   "source": [
    "# Criação de features One-Hot encoding com bairros"
   ]
  },
  {
   "cell_type": "code",
   "execution_count": 3,
   "id": "2ea9e104-0fa6-42fb-85da-06153971526b",
   "metadata": {},
   "outputs": [],
   "source": [
    "dummies = pd.get_dummies(raw_simulated_dataset['neighborhood'])\n",
    "raw_simulated_dataset = pd.concat([raw_simulated_dataset, dummies], axis=1).drop(columns='neighborhood')"
   ]
  },
  {
   "cell_type": "markdown",
   "id": "d5087454-37c4-4618-9326-e5a333e05164",
   "metadata": {},
   "source": [
    "# Separação de bases de teste e treino"
   ]
  },
  {
   "cell_type": "code",
   "execution_count": 6,
   "id": "01ae0e18-76c9-4521-8916-e5bbe64dfa16",
   "metadata": {},
   "outputs": [],
   "source": [
    "from sklearn.model_selection import KFold, cross_val_score, train_test_split, RepeatedKFold, cross_validate\n",
    "X = raw_simulated_dataset.drop(['value', 'sold', 'time_on_market'], axis=1)\n",
    "y = raw_simulated_dataset['value']\n",
    "X_train, X_test, y_train, y_test = train_test_split(X, y, test_size=0.15, random_state=8)"
   ]
  },
  {
   "cell_type": "markdown",
   "id": "3f92f79b-ff5e-4abe-abfa-cdf622537186",
   "metadata": {},
   "source": [
    "O modelo é necessário para estimar o valor de venda do apartamento, seja ele com ou sem reforma necessária. Para isso não foi considerada a variável time_on_market por se tratar de uma variável que não necessáriamente temos para apartamentos que vamos comprar."
   ]
  },
  {
   "cell_type": "markdown",
   "id": "4fb92b1a-c0f2-4758-b1e7-ea0472d97c9d",
   "metadata": {},
   "source": [
    "# Treinamento do modelo"
   ]
  },
  {
   "cell_type": "code",
   "execution_count": 7,
   "id": "5c0e0b3d-a077-4e47-aa64-701db2edab15",
   "metadata": {},
   "outputs": [],
   "source": [
    "\n",
    "from sklearn.metrics import mean_squared_error\n",
    "from numpy import absolute\n",
    "import xgboost as xgb"
   ]
  },
  {
   "cell_type": "code",
   "execution_count": 8,
   "id": "c88bc42f-87df-4d51-a3f7-20df5bb3b288",
   "metadata": {},
   "outputs": [],
   "source": [
    "model=xgb.XGBRegressor(learning_rate = 0.01,\n",
    "                           n_estimators  = 500,\n",
    "                           max_depth     = 5,\n",
    "                           eval_metric='rmsle')"
   ]
  },
  {
   "cell_type": "markdown",
   "id": "429e3ad6-64f7-46fc-b1d7-1a6b8f82f56f",
   "metadata": {},
   "source": [
    "## Avaliação da métrica"
   ]
  },
  {
   "cell_type": "code",
   "execution_count": 9,
   "id": "c60bf004-70fd-40ed-8b52-d1707c0702f8",
   "metadata": {},
   "outputs": [
    {
     "name": "stdout",
     "output_type": "stream",
     "text": [
      "Mean RMSLE: -0.037 (0.002)\n"
     ]
    }
   ],
   "source": [
    "# define model evaluation method\n",
    "cv = RepeatedKFold(n_splits=5, n_repeats=3, random_state=8)\n",
    "# evaluate model\n",
    "scores = cross_val_score(model, X, y, scoring='neg_mean_squared_log_error', cv=cv, n_jobs=-1)\n",
    "print('Mean RMSLE: %.3f (%.3f)' % (absolute(scores.mean()), scores.std())) "
   ]
  },
  {
   "cell_type": "markdown",
   "id": "fd6b3acd-9ff7-45f2-a45a-1655ef058cbf",
   "metadata": {},
   "source": [
    "Foi escolhido como métrica mean squared logarithmic error porque essa métrica é recomendada quando os targets possuem crescimento exponencial, como por exemplo preço dos apartamentos.\n",
    "Essa escolha é feita é para não penalizar grandes diferenças entre a predição e o valor real."
   ]
  },
  {
   "cell_type": "markdown",
   "id": "7d3e3564-b9bd-48bb-932a-bf3fc85a9739",
   "metadata": {},
   "source": [
    "## Treinamento com validação cruzada"
   ]
  },
  {
   "cell_type": "code",
   "execution_count": 10,
   "id": "496db095-0efe-426e-a6cc-eb9dee28c5b3",
   "metadata": {},
   "outputs": [],
   "source": [
    "score = cross_validate(model, X, y, scoring='neg_mean_squared_log_error', cv=cv, n_jobs=-1, return_estimator=True)"
   ]
  },
  {
   "cell_type": "code",
   "execution_count": 11,
   "id": "a3772993-6e8b-4838-a89a-383a465361b5",
   "metadata": {},
   "outputs": [],
   "source": [
    "test_score_abs = absolute(score['test_score'])\n",
    "best_model_idx = np.where(test_score_abs == test_score_abs.min())\n",
    "model_best = score['estimator'][best_model_idx[0][0]]"
   ]
  },
  {
   "cell_type": "code",
   "execution_count": 12,
   "id": "5196e6e4-7ab1-41bc-8fa2-026ac81238e2",
   "metadata": {},
   "outputs": [],
   "source": [
    "import pickle\n",
    "file_name = \"/mnt/data/xgb_price_regressor.pkl\"\n",
    "\n",
    "# save\n",
    "pickle.dump(model_best, open(file_name, \"wb\"))\n",
    "\n",
    "# load\n",
    "#xgb_model_loaded = pickle.load(open(file_name, \"rb\"))"
   ]
  },
  {
   "cell_type": "code",
   "execution_count": 13,
   "id": "fc4be6c6-f4a4-471c-882c-805febf3a273",
   "metadata": {},
   "outputs": [],
   "source": [
    "preds = model_best.predict(X_test)"
   ]
  },
  {
   "cell_type": "code",
   "execution_count": 14,
   "id": "618f6a53-0c44-4b45-9fb0-046bdf05f16c",
   "metadata": {},
   "outputs": [
    {
     "data": {
      "text/html": [
       "<div>\n",
       "<style scoped>\n",
       "    .dataframe tbody tr th:only-of-type {\n",
       "        vertical-align: middle;\n",
       "    }\n",
       "\n",
       "    .dataframe tbody tr th {\n",
       "        vertical-align: top;\n",
       "    }\n",
       "\n",
       "    .dataframe thead th {\n",
       "        text-align: right;\n",
       "    }\n",
       "</style>\n",
       "<table border=\"1\" class=\"dataframe\">\n",
       "  <thead>\n",
       "    <tr style=\"text-align: right;\">\n",
       "      <th></th>\n",
       "      <th>value</th>\n",
       "      <th>preds</th>\n",
       "    </tr>\n",
       "  </thead>\n",
       "  <tbody>\n",
       "    <tr>\n",
       "      <th>6446</th>\n",
       "      <td>544249</td>\n",
       "      <td>6.116443e+05</td>\n",
       "    </tr>\n",
       "    <tr>\n",
       "      <th>6393</th>\n",
       "      <td>627876</td>\n",
       "      <td>6.212068e+05</td>\n",
       "    </tr>\n",
       "    <tr>\n",
       "      <th>4924</th>\n",
       "      <td>2054370</td>\n",
       "      <td>2.461483e+06</td>\n",
       "    </tr>\n",
       "    <tr>\n",
       "      <th>6480</th>\n",
       "      <td>1004540</td>\n",
       "      <td>1.182210e+06</td>\n",
       "    </tr>\n",
       "    <tr>\n",
       "      <th>4455</th>\n",
       "      <td>1326930</td>\n",
       "      <td>1.032586e+06</td>\n",
       "    </tr>\n",
       "    <tr>\n",
       "      <th>...</th>\n",
       "      <td>...</td>\n",
       "      <td>...</td>\n",
       "    </tr>\n",
       "    <tr>\n",
       "      <th>885</th>\n",
       "      <td>1365730</td>\n",
       "      <td>1.764287e+06</td>\n",
       "    </tr>\n",
       "    <tr>\n",
       "      <th>3042</th>\n",
       "      <td>908762</td>\n",
       "      <td>9.342449e+05</td>\n",
       "    </tr>\n",
       "    <tr>\n",
       "      <th>530</th>\n",
       "      <td>487133</td>\n",
       "      <td>6.827591e+05</td>\n",
       "    </tr>\n",
       "    <tr>\n",
       "      <th>7752</th>\n",
       "      <td>3097650</td>\n",
       "      <td>3.019338e+06</td>\n",
       "    </tr>\n",
       "    <tr>\n",
       "      <th>6190</th>\n",
       "      <td>974241</td>\n",
       "      <td>8.133976e+05</td>\n",
       "    </tr>\n",
       "  </tbody>\n",
       "</table>\n",
       "<p>1256 rows × 2 columns</p>\n",
       "</div>"
      ],
      "text/plain": [
       "        value         preds\n",
       "6446   544249  6.116443e+05\n",
       "6393   627876  6.212068e+05\n",
       "4924  2054370  2.461483e+06\n",
       "6480  1004540  1.182210e+06\n",
       "4455  1326930  1.032586e+06\n",
       "...       ...           ...\n",
       "885   1365730  1.764287e+06\n",
       "3042   908762  9.342449e+05\n",
       "530    487133  6.827591e+05\n",
       "7752  3097650  3.019338e+06\n",
       "6190   974241  8.133976e+05\n",
       "\n",
       "[1256 rows x 2 columns]"
      ]
     },
     "execution_count": 14,
     "metadata": {},
     "output_type": "execute_result"
    }
   ],
   "source": [
    "df_preds = pd.DataFrame(y_test)\n",
    "df_preds['preds'] = preds\n",
    "\n",
    "df_preds"
   ]
  }
 ],
 "metadata": {
  "kernelspec": {
   "display_name": "Python 3 (ipykernel)",
   "language": "python",
   "name": "python3"
  },
  "language_info": {
   "codemirror_mode": {
    "name": "ipython",
    "version": 3
   },
   "file_extension": ".py",
   "mimetype": "text/x-python",
   "name": "python",
   "nbconvert_exporter": "python",
   "pygments_lexer": "ipython3",
   "version": "3.10.6"
  },
  "widgets": {
   "application/vnd.jupyter.widget-state+json": {
    "state": {},
    "version_major": 2,
    "version_minor": 0
   }
  }
 },
 "nbformat": 4,
 "nbformat_minor": 5
}
