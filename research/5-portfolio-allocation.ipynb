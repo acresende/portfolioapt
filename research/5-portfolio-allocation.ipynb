{
 "cells": [
  {
   "cell_type": "code",
   "execution_count": 1,
   "id": "a44d5849-e05b-46a7-9da5-e3ccb6e8d219",
   "metadata": {},
   "outputs": [],
   "source": [
    "import pickle\n",
    "import pandas as pd\n",
    "import numpy as np\n",
    "import xgboost\n",
    "\n",
    "raw_target_dataset = pd.read_csv('/mnt/data/target_apartments1_wn.csv')\n",
    "raw_target_dataset.drop(columns=['point'], inplace=True)\n",
    "dummies = pd.get_dummies(raw_target_dataset['neighborhood'])\n",
    "raw_target_dataset = pd.concat([raw_target_dataset, dummies], axis=1).drop(columns='neighborhood')"
   ]
  },
  {
   "cell_type": "code",
   "execution_count": 2,
   "id": "f9377c9a-fc99-435a-a134-18b1ba28e6ea",
   "metadata": {},
   "outputs": [],
   "source": [
    "raw_simulated_dataset = pd.read_csv('/mnt/data/simulated_listings1_wn.csv')\n",
    "raw_simulated_dataset[['latitude', 'longitude']] = raw_simulated_dataset[['latitude', 'longitude']].astype(float)\n",
    "raw_simulated_dataset.drop(columns=['point','time_on_market', 'sold'], inplace=True)\n",
    "dummies = pd.get_dummies(raw_simulated_dataset['neighborhood'])\n",
    "raw_simulated_dataset = pd.concat([raw_simulated_dataset, dummies], axis=1).drop(columns='neighborhood')"
   ]
  },
  {
   "cell_type": "markdown",
   "id": "6e85012c-4581-49d0-9340-d6a99dc6523b",
   "metadata": {},
   "source": [
    "Adicionar neighboorhoods faltantes"
   ]
  },
  {
   "cell_type": "code",
   "execution_count": 3,
   "id": "444e48a2-d3f9-4fe2-8794-b62c0cbe28b8",
   "metadata": {},
   "outputs": [],
   "source": [
    "def create_missing_columns(raw_simulated_dataset, raw_target_dataset):\n",
    "    adresses_to_add_columns = list(set(raw_simulated_dataset) - set(raw_target_dataset))\n",
    "    adresses_to_add_columns\n",
    "\n",
    "    for item in adresses_to_add_columns:\n",
    "        raw_target_dataset[item]=0\n",
    "    raw_target_dataset.columns = raw_simulated_dataset.columns \n",
    "    return raw_simulated_dataset"
   ]
  },
  {
   "cell_type": "code",
   "execution_count": 4,
   "id": "f280fcbe-1440-4228-b062-bb588c718007",
   "metadata": {},
   "outputs": [],
   "source": [
    "raw_simulated_dataset = create_missing_columns(raw_simulated_dataset, raw_target_dataset)"
   ]
  },
  {
   "cell_type": "code",
   "execution_count": 5,
   "id": "443d8558-7dca-4579-a823-c456049c0c13",
   "metadata": {},
   "outputs": [],
   "source": [
    "# load\n",
    "file_name = \"/mnt/data/xgb_price_regressor.pkl\"\n",
    "price_model = pickle.load(open(file_name, \"rb\"))"
   ]
  },
  {
   "cell_type": "code",
   "execution_count": 6,
   "id": "ad9215f9-1280-4b00-8d35-959780507b71",
   "metadata": {},
   "outputs": [],
   "source": [
    "# load\n",
    "file_name = \"/mnt/data/xgb_liquidity_survival_cox.pkl\"\n",
    "liquidity_model = pickle.load(open(file_name, \"rb\"))"
   ]
  },
  {
   "cell_type": "markdown",
   "id": "01e47281-a08c-4989-8f8b-21dc20306182",
   "metadata": {},
   "source": [
    "# Prever preço de venda para targets apartaments"
   ]
  },
  {
   "cell_type": "markdown",
   "id": "73c22163-2563-496d-87f7-c2e01792b072",
   "metadata": {},
   "source": [
    "Diretrizes:\n",
    "- Pagamos exatamente o valor pedido pelo proprietário (coluna value na base\n",
    "target_apartments.csv ).\n",
    "- A reforma traz o apartamento para o melhor estado de conservação possível\n",
    "( interior_quality=3 ).\n",
    "- O capital disponível para compra dos apartamentos é de R$ 150 milhões."
   ]
  },
  {
   "cell_type": "markdown",
   "id": "132f8157-604c-4f43-9f25-0e593eb7e119",
   "metadata": {},
   "source": [
    "Passando todos os 'interior_quality' para 3 antes de prever o preço de venda"
   ]
  },
  {
   "cell_type": "code",
   "execution_count": 7,
   "id": "5636e3de-a9d9-4d5f-9b1c-7f8df314459f",
   "metadata": {},
   "outputs": [],
   "source": [
    "raw_target_dataset['interior_quality']=3"
   ]
  },
  {
   "cell_type": "code",
   "execution_count": 8,
   "id": "f4ff2a8d-bf84-438e-b5c4-f6bc261e8d93",
   "metadata": {},
   "outputs": [],
   "source": [
    "X= raw_target_dataset.drop(['value'], axis=1)\n",
    "sell_value_preds = price_model.predict(X)"
   ]
  },
  {
   "cell_type": "code",
   "execution_count": 9,
   "id": "682f041b-9f0a-4942-8af5-b11f148c7f20",
   "metadata": {},
   "outputs": [],
   "source": [
    "raw_target_dataset = raw_target_dataset.rename(columns={'value': 'buy_value'})\n",
    "raw_target_dataset['value']=sell_value_preds"
   ]
  },
  {
   "cell_type": "markdown",
   "id": "365675ea-7c38-4272-b62b-1e20dbdcf1c0",
   "metadata": {},
   "source": [
    "# Prever Liquidity (time_on_market) com o sell_value"
   ]
  },
  {
   "cell_type": "code",
   "execution_count": 11,
   "id": "baf194ce-569d-4ca7-be4d-04759c1f7646",
   "metadata": {},
   "outputs": [],
   "source": [
    "X= raw_target_dataset.drop(['buy_value'], axis=1)\n",
    "X.columns = raw_simulated_dataset.columns \n",
    "X_dmatrix = xgboost.DMatrix(X)\n",
    "time_on_market_pred = liquidity_model.predict(X_dmatrix)\n",
    "raw_target_dataset['time_on_market'] = time_on_market_pred"
   ]
  },
  {
   "cell_type": "code",
   "execution_count": 15,
   "id": "64d0f2dc-56d2-4843-a18b-8715bbc23c3f",
   "metadata": {},
   "outputs": [
    {
     "name": "stderr",
     "output_type": "stream",
     "text": [
      "/tmp/ipykernel_16376/1063359401.py:2: SettingWithCopyWarning: \n",
      "A value is trying to be set on a copy of a slice from a DataFrame.\n",
      "Try using .loc[row_indexer,col_indexer] = value instead\n",
      "\n",
      "See the caveats in the documentation: https://pandas.pydata.org/pandas-docs/stable/user_guide/indexing.html#returning-a-view-versus-a-copy\n",
      "  rank_df['money_per_time'] = (rank_df['value'] - rank_df['buy_value'])/ rank_df['time_on_market']\n"
     ]
    },
    {
     "data": {
      "text/html": [
       "<div>\n",
       "<style scoped>\n",
       "    .dataframe tbody tr th:only-of-type {\n",
       "        vertical-align: middle;\n",
       "    }\n",
       "\n",
       "    .dataframe tbody tr th {\n",
       "        vertical-align: top;\n",
       "    }\n",
       "\n",
       "    .dataframe thead th {\n",
       "        text-align: right;\n",
       "    }\n",
       "</style>\n",
       "<table border=\"1\" class=\"dataframe\">\n",
       "  <thead>\n",
       "    <tr style=\"text-align: right;\">\n",
       "      <th></th>\n",
       "      <th>buy_value</th>\n",
       "      <th>value</th>\n",
       "      <th>time_on_market</th>\n",
       "      <th>money_per_time</th>\n",
       "    </tr>\n",
       "  </thead>\n",
       "  <tbody>\n",
       "    <tr>\n",
       "      <th>0</th>\n",
       "      <td>454377</td>\n",
       "      <td>5.000146e+05</td>\n",
       "      <td>4.397466</td>\n",
       "      <td>10378.165073</td>\n",
       "    </tr>\n",
       "    <tr>\n",
       "      <th>1</th>\n",
       "      <td>1500960</td>\n",
       "      <td>1.246756e+06</td>\n",
       "      <td>11.126555</td>\n",
       "      <td>-22846.558515</td>\n",
       "    </tr>\n",
       "    <tr>\n",
       "      <th>2</th>\n",
       "      <td>1045980</td>\n",
       "      <td>9.176501e+05</td>\n",
       "      <td>11.970856</td>\n",
       "      <td>-10720.192280</td>\n",
       "    </tr>\n",
       "    <tr>\n",
       "      <th>3</th>\n",
       "      <td>3707770</td>\n",
       "      <td>3.409410e+06</td>\n",
       "      <td>103.703835</td>\n",
       "      <td>-2877.044049</td>\n",
       "    </tr>\n",
       "    <tr>\n",
       "      <th>4</th>\n",
       "      <td>1007670</td>\n",
       "      <td>1.128824e+06</td>\n",
       "      <td>16.187449</td>\n",
       "      <td>7484.463965</td>\n",
       "    </tr>\n",
       "    <tr>\n",
       "      <th>...</th>\n",
       "      <td>...</td>\n",
       "      <td>...</td>\n",
       "      <td>...</td>\n",
       "      <td>...</td>\n",
       "    </tr>\n",
       "    <tr>\n",
       "      <th>8363</th>\n",
       "      <td>1276480</td>\n",
       "      <td>1.545236e+06</td>\n",
       "      <td>32.174469</td>\n",
       "      <td>8353.071034</td>\n",
       "    </tr>\n",
       "    <tr>\n",
       "      <th>8364</th>\n",
       "      <td>3543890</td>\n",
       "      <td>3.929622e+06</td>\n",
       "      <td>106.527092</td>\n",
       "      <td>3620.975593</td>\n",
       "    </tr>\n",
       "    <tr>\n",
       "      <th>8365</th>\n",
       "      <td>1088360</td>\n",
       "      <td>9.872470e+05</td>\n",
       "      <td>14.001967</td>\n",
       "      <td>-7221.342322</td>\n",
       "    </tr>\n",
       "    <tr>\n",
       "      <th>8366</th>\n",
       "      <td>2727660</td>\n",
       "      <td>2.010821e+06</td>\n",
       "      <td>31.254883</td>\n",
       "      <td>-22935.272364</td>\n",
       "    </tr>\n",
       "    <tr>\n",
       "      <th>8367</th>\n",
       "      <td>661578</td>\n",
       "      <td>6.459261e+05</td>\n",
       "      <td>9.722476</td>\n",
       "      <td>-1609.871548</td>\n",
       "    </tr>\n",
       "  </tbody>\n",
       "</table>\n",
       "<p>8368 rows × 4 columns</p>\n",
       "</div>"
      ],
      "text/plain": [
       "      buy_value         value  time_on_market  money_per_time\n",
       "0        454377  5.000146e+05        4.397466    10378.165073\n",
       "1       1500960  1.246756e+06       11.126555   -22846.558515\n",
       "2       1045980  9.176501e+05       11.970856   -10720.192280\n",
       "3       3707770  3.409410e+06      103.703835    -2877.044049\n",
       "4       1007670  1.128824e+06       16.187449     7484.463965\n",
       "...         ...           ...             ...             ...\n",
       "8363    1276480  1.545236e+06       32.174469     8353.071034\n",
       "8364    3543890  3.929622e+06      106.527092     3620.975593\n",
       "8365    1088360  9.872470e+05       14.001967    -7221.342322\n",
       "8366    2727660  2.010821e+06       31.254883   -22935.272364\n",
       "8367     661578  6.459261e+05        9.722476    -1609.871548\n",
       "\n",
       "[8368 rows x 4 columns]"
      ]
     },
     "execution_count": 15,
     "metadata": {},
     "output_type": "execute_result"
    }
   ],
   "source": [
    "rank_df = raw_target_dataset[['buy_value', 'value', 'time_on_market']]\n",
    "rank_df['money_per_time'] = (rank_df['value'] - rank_df['buy_value'])/ rank_df['time_on_market']\n",
    "rank_df"
   ]
  },
  {
   "cell_type": "code",
   "execution_count": 24,
   "id": "7e889afb-d247-45bc-9104-840f694c6923",
   "metadata": {},
   "outputs": [
    {
     "data": {
      "text/html": [
       "<div>\n",
       "<style scoped>\n",
       "    .dataframe tbody tr th:only-of-type {\n",
       "        vertical-align: middle;\n",
       "    }\n",
       "\n",
       "    .dataframe tbody tr th {\n",
       "        vertical-align: top;\n",
       "    }\n",
       "\n",
       "    .dataframe thead th {\n",
       "        text-align: right;\n",
       "    }\n",
       "</style>\n",
       "<table border=\"1\" class=\"dataframe\">\n",
       "  <thead>\n",
       "    <tr style=\"text-align: right;\">\n",
       "      <th></th>\n",
       "      <th>buy_value</th>\n",
       "      <th>value</th>\n",
       "      <th>time_on_market</th>\n",
       "      <th>money_per_time</th>\n",
       "    </tr>\n",
       "  </thead>\n",
       "  <tbody>\n",
       "    <tr>\n",
       "      <th>3535</th>\n",
       "      <td>160756</td>\n",
       "      <td>404048.90625</td>\n",
       "      <td>2.460307</td>\n",
       "      <td>98887.219292</td>\n",
       "    </tr>\n",
       "    <tr>\n",
       "      <th>8357</th>\n",
       "      <td>523050</td>\n",
       "      <td>905019.25000</td>\n",
       "      <td>3.872643</td>\n",
       "      <td>98632.710042</td>\n",
       "    </tr>\n",
       "    <tr>\n",
       "      <th>976</th>\n",
       "      <td>345007</td>\n",
       "      <td>481435.37500</td>\n",
       "      <td>1.545618</td>\n",
       "      <td>88267.851739</td>\n",
       "    </tr>\n",
       "    <tr>\n",
       "      <th>5167</th>\n",
       "      <td>240630</td>\n",
       "      <td>450533.68750</td>\n",
       "      <td>2.593192</td>\n",
       "      <td>80944.148355</td>\n",
       "    </tr>\n",
       "    <tr>\n",
       "      <th>8201</th>\n",
       "      <td>196030</td>\n",
       "      <td>413204.78125</td>\n",
       "      <td>2.760945</td>\n",
       "      <td>78659.573468</td>\n",
       "    </tr>\n",
       "    <tr>\n",
       "      <th>...</th>\n",
       "      <td>...</td>\n",
       "      <td>...</td>\n",
       "      <td>...</td>\n",
       "      <td>...</td>\n",
       "    </tr>\n",
       "    <tr>\n",
       "      <th>904</th>\n",
       "      <td>1080240</td>\n",
       "      <td>585539.75000</td>\n",
       "      <td>4.781138</td>\n",
       "      <td>-103469.133610</td>\n",
       "    </tr>\n",
       "    <tr>\n",
       "      <th>1345</th>\n",
       "      <td>964503</td>\n",
       "      <td>536429.68750</td>\n",
       "      <td>3.849054</td>\n",
       "      <td>-111215.197705</td>\n",
       "    </tr>\n",
       "    <tr>\n",
       "      <th>2145</th>\n",
       "      <td>733022</td>\n",
       "      <td>425408.40625</td>\n",
       "      <td>2.711598</td>\n",
       "      <td>-113443.670461</td>\n",
       "    </tr>\n",
       "    <tr>\n",
       "      <th>8277</th>\n",
       "      <td>964503</td>\n",
       "      <td>538736.06250</td>\n",
       "      <td>3.376651</td>\n",
       "      <td>-126091.500569</td>\n",
       "    </tr>\n",
       "    <tr>\n",
       "      <th>1426</th>\n",
       "      <td>964503</td>\n",
       "      <td>505314.09375</td>\n",
       "      <td>3.497439</td>\n",
       "      <td>-131292.902715</td>\n",
       "    </tr>\n",
       "  </tbody>\n",
       "</table>\n",
       "<p>8368 rows × 4 columns</p>\n",
       "</div>"
      ],
      "text/plain": [
       "      buy_value         value  time_on_market  money_per_time\n",
       "3535     160756  404048.90625        2.460307    98887.219292\n",
       "8357     523050  905019.25000        3.872643    98632.710042\n",
       "976      345007  481435.37500        1.545618    88267.851739\n",
       "5167     240630  450533.68750        2.593192    80944.148355\n",
       "8201     196030  413204.78125        2.760945    78659.573468\n",
       "...         ...           ...             ...             ...\n",
       "904     1080240  585539.75000        4.781138  -103469.133610\n",
       "1345     964503  536429.68750        3.849054  -111215.197705\n",
       "2145     733022  425408.40625        2.711598  -113443.670461\n",
       "8277     964503  538736.06250        3.376651  -126091.500569\n",
       "1426     964503  505314.09375        3.497439  -131292.902715\n",
       "\n",
       "[8368 rows x 4 columns]"
      ]
     },
     "execution_count": 24,
     "metadata": {},
     "output_type": "execute_result"
    }
   ],
   "source": [
    "rank_df_ordered = rank_df.sort_values(by=['money_per_time'], ascending=False)\n",
    "rank_df_ordered"
   ]
  },
  {
   "cell_type": "code",
   "execution_count": 26,
   "id": "4aa023e6-edc6-4f79-8a79-48b4555f1c8d",
   "metadata": {},
   "outputs": [
    {
     "data": {
      "text/html": [
       "<div>\n",
       "<style scoped>\n",
       "    .dataframe tbody tr th:only-of-type {\n",
       "        vertical-align: middle;\n",
       "    }\n",
       "\n",
       "    .dataframe tbody tr th {\n",
       "        vertical-align: top;\n",
       "    }\n",
       "\n",
       "    .dataframe thead th {\n",
       "        text-align: right;\n",
       "    }\n",
       "</style>\n",
       "<table border=\"1\" class=\"dataframe\">\n",
       "  <thead>\n",
       "    <tr style=\"text-align: right;\">\n",
       "      <th></th>\n",
       "      <th>buy_value</th>\n",
       "      <th>value</th>\n",
       "      <th>time_on_market</th>\n",
       "      <th>money_per_time</th>\n",
       "      <th>cum_sum</th>\n",
       "    </tr>\n",
       "  </thead>\n",
       "  <tbody>\n",
       "    <tr>\n",
       "      <th>3535</th>\n",
       "      <td>160756</td>\n",
       "      <td>4.040489e+05</td>\n",
       "      <td>2.460307</td>\n",
       "      <td>98887.219292</td>\n",
       "      <td>4.040489e+05</td>\n",
       "    </tr>\n",
       "    <tr>\n",
       "      <th>8357</th>\n",
       "      <td>523050</td>\n",
       "      <td>9.050192e+05</td>\n",
       "      <td>3.872643</td>\n",
       "      <td>98632.710042</td>\n",
       "      <td>1.309068e+06</td>\n",
       "    </tr>\n",
       "    <tr>\n",
       "      <th>976</th>\n",
       "      <td>345007</td>\n",
       "      <td>4.814354e+05</td>\n",
       "      <td>1.545618</td>\n",
       "      <td>88267.851739</td>\n",
       "      <td>1.790504e+06</td>\n",
       "    </tr>\n",
       "    <tr>\n",
       "      <th>5167</th>\n",
       "      <td>240630</td>\n",
       "      <td>4.505337e+05</td>\n",
       "      <td>2.593192</td>\n",
       "      <td>80944.148355</td>\n",
       "      <td>2.241037e+06</td>\n",
       "    </tr>\n",
       "    <tr>\n",
       "      <th>8201</th>\n",
       "      <td>196030</td>\n",
       "      <td>4.132048e+05</td>\n",
       "      <td>2.760945</td>\n",
       "      <td>78659.573468</td>\n",
       "      <td>2.654242e+06</td>\n",
       "    </tr>\n",
       "    <tr>\n",
       "      <th>...</th>\n",
       "      <td>...</td>\n",
       "      <td>...</td>\n",
       "      <td>...</td>\n",
       "      <td>...</td>\n",
       "      <td>...</td>\n",
       "    </tr>\n",
       "    <tr>\n",
       "      <th>4604</th>\n",
       "      <td>465277</td>\n",
       "      <td>5.936421e+05</td>\n",
       "      <td>4.194706</td>\n",
       "      <td>30601.694502</td>\n",
       "      <td>1.470020e+08</td>\n",
       "    </tr>\n",
       "    <tr>\n",
       "      <th>955</th>\n",
       "      <td>460339</td>\n",
       "      <td>5.953059e+05</td>\n",
       "      <td>4.435583</td>\n",
       "      <td>30428.231987</td>\n",
       "      <td>1.475973e+08</td>\n",
       "    </tr>\n",
       "    <tr>\n",
       "      <th>8052</th>\n",
       "      <td>314495</td>\n",
       "      <td>4.683800e+05</td>\n",
       "      <td>5.072826</td>\n",
       "      <td>30335.162840</td>\n",
       "      <td>1.480657e+08</td>\n",
       "    </tr>\n",
       "    <tr>\n",
       "      <th>692</th>\n",
       "      <td>538160</td>\n",
       "      <td>7.573234e+05</td>\n",
       "      <td>7.235702</td>\n",
       "      <td>30289.173926</td>\n",
       "      <td>1.488230e+08</td>\n",
       "    </tr>\n",
       "    <tr>\n",
       "      <th>2341</th>\n",
       "      <td>628497</td>\n",
       "      <td>1.035605e+06</td>\n",
       "      <td>13.443004</td>\n",
       "      <td>30284.001103</td>\n",
       "      <td>1.498586e+08</td>\n",
       "    </tr>\n",
       "  </tbody>\n",
       "</table>\n",
       "<p>248 rows × 5 columns</p>\n",
       "</div>"
      ],
      "text/plain": [
       "      buy_value         value  time_on_market  money_per_time       cum_sum\n",
       "3535     160756  4.040489e+05        2.460307    98887.219292  4.040489e+05\n",
       "8357     523050  9.050192e+05        3.872643    98632.710042  1.309068e+06\n",
       "976      345007  4.814354e+05        1.545618    88267.851739  1.790504e+06\n",
       "5167     240630  4.505337e+05        2.593192    80944.148355  2.241037e+06\n",
       "8201     196030  4.132048e+05        2.760945    78659.573468  2.654242e+06\n",
       "...         ...           ...             ...             ...           ...\n",
       "4604     465277  5.936421e+05        4.194706    30601.694502  1.470020e+08\n",
       "955      460339  5.953059e+05        4.435583    30428.231987  1.475973e+08\n",
       "8052     314495  4.683800e+05        5.072826    30335.162840  1.480657e+08\n",
       "692      538160  7.573234e+05        7.235702    30289.173926  1.488230e+08\n",
       "2341     628497  1.035605e+06       13.443004    30284.001103  1.498586e+08\n",
       "\n",
       "[248 rows x 5 columns]"
      ]
     },
     "execution_count": 26,
     "metadata": {},
     "output_type": "execute_result"
    }
   ],
   "source": [
    "rank_df_ordered['cum_sum'] = rank_df_ordered['value'].cumsum()\n",
    "best_apts_df = rank_df_ordered[rank_df_ordered['cum_sum']<150000000]\n",
    "best_apts_df"
   ]
  },
  {
   "cell_type": "code",
   "execution_count": 27,
   "id": "85ef4f1b-5ce8-4bc9-83ba-08d2499532aa",
   "metadata": {},
   "outputs": [
    {
     "data": {
      "text/plain": [
       "<AxesSubplot:ylabel='Frequency'>"
      ]
     },
     "execution_count": 27,
     "metadata": {},
     "output_type": "execute_result"
    },
    {
     "data": {
      "image/png": "[encoded data removed]",
      "text/plain": [
       "<Figure size 640x480 with 1 Axes>"
      ]
     },
     "metadata": {},
     "output_type": "display_data"
    }
   ],
   "source": [
    "best_apts_df['value'].plot.hist()"
   ]
  }
 ],
 "metadata": {
  "kernelspec": {
   "display_name": "Python 3 (ipykernel)",
   "language": "python",
   "name": "python3"
  },
  "language_info": {
   "codemirror_mode": {
    "name": "ipython",
    "version": 3
   },
   "file_extension": ".py",
   "mimetype": "text/x-python",
   "name": "python",
   "nbconvert_exporter": "python",
   "pygments_lexer": "ipython3",
   "version": "3.10.6"
  },
  "widgets": {
   "application/vnd.jupyter.widget-state+json": {
    "state": {},
    "version_major": 2,
    "version_minor": 0
   }
  }
 },
 "nbformat": 4,
 "nbformat_minor": 5
}
