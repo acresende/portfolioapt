{
 "cells": [
  {
   "cell_type": "markdown",
   "metadata": {},
   "source": [
    "# Carregamento e visualização da base"
   ]
  },
  {
   "cell_type": "code",
   "execution_count": 1,
   "metadata": {
    "ExecuteTime": {
     "end_time": "2022-10-08T19:11:25.402725Z",
     "start_time": "2022-10-08T19:11:25.078845Z"
    }
   },
   "outputs": [],
   "source": [
    "import pandas as pd\n",
    "import numpy as np\n",
    "\n",
    "raw_dataset = pd.read_csv('/mnt/data/simulated_listings1.csv')\n",
    "#raw_dataset.drop(columns='index', inplace=True)\n",
    "#raw_dataset.replace({'None': np.nan, -1: np.nan}, inplace=True)\n",
    "raw_dataset[['latitude', 'longitude']] = raw_dataset[['latitude', 'longitude']].astype(float)"
   ]
  },
  {
   "cell_type": "markdown",
   "metadata": {},
   "source": [
    "# Tratamento da base"
   ]
  },
  {
   "cell_type": "code",
   "execution_count": 2,
   "metadata": {
    "ExecuteTime": {
     "end_time": "2022-10-08T19:11:25.416617Z",
     "start_time": "2022-10-08T19:11:25.404741Z"
    }
   },
   "outputs": [],
   "source": [
    "cleaned_dataset = raw_dataset.drop_duplicates()"
   ]
  },
  {
   "cell_type": "code",
   "execution_count": 6,
   "metadata": {},
   "outputs": [
    {
     "data": {
      "text/html": [
       "<div>\n",
       "<style scoped>\n",
       "    .dataframe tbody tr th:only-of-type {\n",
       "        vertical-align: middle;\n",
       "    }\n",
       "\n",
       "    .dataframe tbody tr th {\n",
       "        vertical-align: top;\n",
       "    }\n",
       "\n",
       "    .dataframe thead th {\n",
       "        text-align: right;\n",
       "    }\n",
       "</style>\n",
       "<table border=\"1\" class=\"dataframe\">\n",
       "  <thead>\n",
       "    <tr style=\"text-align: right;\">\n",
       "      <th></th>\n",
       "      <th>rooms</th>\n",
       "      <th>garages</th>\n",
       "      <th>useful_area</th>\n",
       "      <th>latitude</th>\n",
       "      <th>longitude</th>\n",
       "      <th>value</th>\n",
       "      <th>interior_quality</th>\n",
       "      <th>time_on_market</th>\n",
       "      <th>sold</th>\n",
       "    </tr>\n",
       "  </thead>\n",
       "  <tbody>\n",
       "    <tr>\n",
       "      <th>0</th>\n",
       "      <td>3.0</td>\n",
       "      <td>2.0</td>\n",
       "      <td>77</td>\n",
       "      <td>-23.624629</td>\n",
       "      <td>-46.738757</td>\n",
       "      <td>686126</td>\n",
       "      <td>2</td>\n",
       "      <td>75.838273</td>\n",
       "      <td>0</td>\n",
       "    </tr>\n",
       "    <tr>\n",
       "      <th>1</th>\n",
       "      <td>1.0</td>\n",
       "      <td>1.0</td>\n",
       "      <td>35</td>\n",
       "      <td>-23.553170</td>\n",
       "      <td>-46.648687</td>\n",
       "      <td>675152</td>\n",
       "      <td>3</td>\n",
       "      <td>215.490618</td>\n",
       "      <td>0</td>\n",
       "    </tr>\n",
       "    <tr>\n",
       "      <th>2</th>\n",
       "      <td>3.0</td>\n",
       "      <td>2.0</td>\n",
       "      <td>97</td>\n",
       "      <td>-23.607094</td>\n",
       "      <td>-46.634414</td>\n",
       "      <td>871258</td>\n",
       "      <td>2</td>\n",
       "      <td>92.048200</td>\n",
       "      <td>0</td>\n",
       "    </tr>\n",
       "    <tr>\n",
       "      <th>3</th>\n",
       "      <td>3.0</td>\n",
       "      <td>3.0</td>\n",
       "      <td>102</td>\n",
       "      <td>-23.539732</td>\n",
       "      <td>-46.567559</td>\n",
       "      <td>648740</td>\n",
       "      <td>3</td>\n",
       "      <td>32.000000</td>\n",
       "      <td>1</td>\n",
       "    </tr>\n",
       "    <tr>\n",
       "      <th>4</th>\n",
       "      <td>2.0</td>\n",
       "      <td>1.0</td>\n",
       "      <td>78</td>\n",
       "      <td>-23.591993</td>\n",
       "      <td>-46.625481</td>\n",
       "      <td>968643</td>\n",
       "      <td>2</td>\n",
       "      <td>319.570866</td>\n",
       "      <td>0</td>\n",
       "    </tr>\n",
       "  </tbody>\n",
       "</table>\n",
       "</div>"
      ],
      "text/plain": [
       "   rooms  garages  useful_area   latitude  longitude   value  \\\n",
       "0    3.0      2.0           77 -23.624629 -46.738757  686126   \n",
       "1    1.0      1.0           35 -23.553170 -46.648687  675152   \n",
       "2    3.0      2.0           97 -23.607094 -46.634414  871258   \n",
       "3    3.0      3.0          102 -23.539732 -46.567559  648740   \n",
       "4    2.0      1.0           78 -23.591993 -46.625481  968643   \n",
       "\n",
       "   interior_quality  time_on_market  sold  \n",
       "0                 2       75.838273     0  \n",
       "1                 3      215.490618     0  \n",
       "2                 2       92.048200     0  \n",
       "3                 3       32.000000     1  \n",
       "4                 2      319.570866     0  "
      ]
     },
     "execution_count": 6,
     "metadata": {},
     "output_type": "execute_result"
    }
   ],
   "source": [
    "cleaned_dataset.head()"
   ]
  },
  {
   "cell_type": "markdown",
   "metadata": {},
   "source": [
    "# Insights"
   ]
  },
  {
   "cell_type": "markdown",
   "metadata": {},
   "source": [
    "- value (preço) possui alta correlação com rooms (quartos), useful_area e garagem.\n",
    "- latitude e longitude claramente precisam de tratamento para serem utilizadas."
   ]
  },
  {
   "cell_type": "code",
   "execution_count": 7,
   "metadata": {
    "ExecuteTime": {
     "end_time": "2022-10-08T19:11:28.388813Z",
     "start_time": "2022-10-08T19:11:25.418597Z"
    }
   },
   "outputs": [
    {
     "name": "stderr",
     "output_type": "stream",
     "text": [
      "/tmp/ipykernel_57/4098072724.py:1: SettingWithCopyWarning: \n",
      "A value is trying to be set on a copy of a slice from a DataFrame.\n",
      "Try using .loc[row_indexer,col_indexer] = value instead\n",
      "\n",
      "See the caveats in the documentation: https://pandas.pydata.org/pandas-docs/stable/user_guide/indexing.html#returning-a-view-versus-a-copy\n",
      "  cleaned_dataset['value_per_day'] = cleaned_dataset['value']/cleaned_dataset['time_on_market']\n"
     ]
    }
   ],
   "source": [
    "cleaned_dataset['value_per_day'] = cleaned_dataset['value']/cleaned_dataset['time_on_market']"
   ]
  },
  {
   "cell_type": "code",
   "execution_count": 9,
   "metadata": {
    "ExecuteTime": {
     "end_time": "2022-10-08T19:11:29.035893Z",
     "start_time": "2022-10-08T19:11:28.390012Z"
    }
   },
   "outputs": [
    {
     "name": "stdout",
     "output_type": "stream",
     "text": [
      "User Guide: https://docs.kepler.gl/docs/keplergl-jupyter\n"
     ]
    },
    {
     "data": {
      "application/vnd.jupyter.widget-view+json": {
       "model_id": "ef5fb26eaf6942ec91557874acdb2ffc",
       "version_major": 2,
       "version_minor": 0
      },
      "text/plain": [
       "KeplerGl(data={'unnamed': {'index': [0, 1, 2, 3, 4, 5, 6, 7, 8, 9, 10, 11, 12, 13, 14, 15, 16, 17, 18, 19, 20,…"
      ]
     },
     "metadata": {},
     "output_type": "display_data"
    }
   ],
   "source": [
    "from keplergl import KeplerGl\n",
    "map_1 = KeplerGl(height=800)\n",
    "map_1.add_data(data=cleaned_dataset)\n",
    "map_1"
   ]
  },
  {
   "cell_type": "code",
   "execution_count": 10,
   "metadata": {},
   "outputs": [
    {
     "name": "stdout",
     "output_type": "stream",
     "text": [
      "Map saved to /mnt/data/first_map.html!\n"
     ]
    }
   ],
   "source": [
    "map_1.save_to_html(file_name='/mnt/data/first_map.html')"
   ]
  }
 ],
 "metadata": {
  "kernelspec": {
   "display_name": "Python 3 (ipykernel)",
   "language": "python",
   "name": "python3"
  },
  "language_info": {
   "codemirror_mode": {
    "name": "ipython",
    "version": 3
   },
   "file_extension": ".py",
   "mimetype": "text/x-python",
   "name": "python",
   "nbconvert_exporter": "python",
   "pygments_lexer": "ipython3",
   "version": "3.10.6"
  },
  "toc": {
   "base_numbering": 1,
   "nav_menu": {},
   "number_sections": true,
   "sideBar": true,
   "skip_h1_title": false,
   "title_cell": "Table of Contents",
   "title_sidebar": "Contents",
   "toc_cell": false,
   "toc_position": {},
   "toc_section_display": true,
   "toc_window_display": false
  },
  "widgets": {
   "application/vnd.jupyter.widget-state+json": {
    "state": {},
    "version_major": 2,
    "version_minor": 0
   }
  }
 },
 "nbformat": 4,
 "nbformat_minor": 4
}
